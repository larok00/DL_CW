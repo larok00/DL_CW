{
 "cells": [
  {
   "cell_type": "code",
   "execution_count": 1,
   "metadata": {},
   "outputs": [
    {
     "name": "stdout",
     "output_type": "stream",
     "text": [
      "Requirement already satisfied: gputil in c:\\users\\koral\\appdata\\local\\programs\\python\\python37\\lib\\site-packages (1.4.0)\n",
      "Requirement already satisfied: psutil in c:\\users\\koral\\appdata\\local\\programs\\python\\python37\\lib\\site-packages (5.6.1)\n",
      "Requirement already satisfied: humanize in c:\\users\\koral\\appdata\\local\\programs\\python\\python37\\lib\\site-packages (0.5.1)\n"
     ]
    }
   ],
   "source": [
    "# Taken from\n",
    "# https://stackoverflow.com/questions/48750199/google-colaboratory-misleading-information-about-its-gpu-only-5-ram-available\n",
    "# memory footprint support libraries/code\n",
    "#!ln -sf /opt/bin/nvidia-smi /usr/bin/nvidia-smi\n",
    "!pip install gputil\n",
    "!pip install psutil\n",
    "!pip install humanize\n",
    "import psutil\n",
    "import humanize\n",
    "import os\n",
    "import GPUtil as GPU\n",
    "GPUs = GPU.getGPUs()\n",
    "# Colab only provides one GPU and it is not always guaranteed\n",
    "gpu = GPUs[0]\n",
    "def printm():\n",
    "  process = psutil.Process(os.getpid())\n",
    "  print(\"RAM Free: \" + humanize.naturalsize( psutil.virtual_memory().available ), \" | Proc size: \" + humanize.naturalsize( process.memory_info().rss))\n",
    "  print(\"GPU RAM Free: {0:.0f}MB | Used: {1:.0f}MB | Util {2:3.0f}% | Total {3:.0f}MB\".format(gpu.memoryFree, gpu.memoryUsed, gpu.memoryUtil*100, gpu.memoryTotal))"
   ]
  },
  {
   "cell_type": "code",
   "execution_count": 2,
   "metadata": {},
   "outputs": [
    {
     "name": "stdout",
     "output_type": "stream",
     "text": [
      "RAM Free: 8.8 GB  | Proc size: 49.5 MB\n",
      "GPU RAM Free: 2609MB | Used: 1487MB | Util  36% | Total 4096MB\n"
     ]
    }
   ],
   "source": [
    "printm()"
   ]
  },
  {
   "cell_type": "code",
   "execution_count": 1,
   "metadata": {},
   "outputs": [
    {
     "name": "stderr",
     "output_type": "stream",
     "text": [
      "Using TensorFlow backend.\n"
     ]
    }
   ],
   "source": [
    "import sys\n",
    "import json\n",
    "import os\n",
    "import glob\n",
    "import time\n",
    "import tensorflow as tf\n",
    "import numpy as np\n",
    "import cv2\n",
    "import random\n",
    "\n",
    "import keras\n",
    "from keras import backend as K\n",
    "from keras.models import Sequential, Model\n",
    "from keras.layers import Dense, Dropout, Activation, Flatten, Input, Lambda, Reshape\n",
    "from keras.layers import Conv2D, MaxPooling2D, BatchNormalization \n",
    "from keras.layers import Input, UpSampling2D, concatenate  \n",
    "\n",
    "from read_data import HPatches, DataGeneratorDesc, hpatches_sequence_folder, DenoiseHPatches, tps\n",
    "from utils import generate_desc_csv, plot_denoise, plot_triplet"
   ]
  },
  {
   "cell_type": "code",
   "execution_count": 2,
   "metadata": {},
   "outputs": [],
   "source": [
    "random.seed(1234)\n",
    "np.random.seed(1234)\n",
    "tf.set_random_seed(1234)"
   ]
  },
  {
   "cell_type": "code",
   "execution_count": 22,
   "metadata": {},
   "outputs": [
    {
     "name": "stdout",
     "output_type": "stream",
     "text": [
      "['C:\\\\Users\\\\koral\\\\OneDrive - Imperial College London\\\\University\\\\Course\\\\4th Year\\\\Spring\\\\EE3-25 Deep Learning\\\\Coursework 2019\\\\keras_triplet_descriptor\\\\hpatches\\\\i_ajuntament', 'C:\\\\Users\\\\koral\\\\OneDrive - Imperial College London\\\\University\\\\Course\\\\4th Year\\\\Spring\\\\EE3-25 Deep Learning\\\\Coursework 2019\\\\keras_triplet_descriptor\\\\hpatches\\\\i_autannes', 'C:\\\\Users\\\\koral\\\\OneDrive - Imperial College London\\\\University\\\\Course\\\\4th Year\\\\Spring\\\\EE3-25 Deep Learning\\\\Coursework 2019\\\\keras_triplet_descriptor\\\\hpatches\\\\i_bologna', 'C:\\\\Users\\\\koral\\\\OneDrive - Imperial College London\\\\University\\\\Course\\\\4th Year\\\\Spring\\\\EE3-25 Deep Learning\\\\Coursework 2019\\\\keras_triplet_descriptor\\\\hpatches\\\\i_books', 'C:\\\\Users\\\\koral\\\\OneDrive - Imperial College London\\\\University\\\\Course\\\\4th Year\\\\Spring\\\\EE3-25 Deep Learning\\\\Coursework 2019\\\\keras_triplet_descriptor\\\\hpatches\\\\i_boutique', 'C:\\\\Users\\\\koral\\\\OneDrive - Imperial College London\\\\University\\\\Course\\\\4th Year\\\\Spring\\\\EE3-25 Deep Learning\\\\Coursework 2019\\\\keras_triplet_descriptor\\\\hpatches\\\\i_bridger', 'C:\\\\Users\\\\koral\\\\OneDrive - Imperial College London\\\\University\\\\Course\\\\4th Year\\\\Spring\\\\EE3-25 Deep Learning\\\\Coursework 2019\\\\keras_triplet_descriptor\\\\hpatches\\\\i_brooklyn', 'C:\\\\Users\\\\koral\\\\OneDrive - Imperial College London\\\\University\\\\Course\\\\4th Year\\\\Spring\\\\EE3-25 Deep Learning\\\\Coursework 2019\\\\keras_triplet_descriptor\\\\hpatches\\\\i_castle', 'C:\\\\Users\\\\koral\\\\OneDrive - Imperial College London\\\\University\\\\Course\\\\4th Year\\\\Spring\\\\EE3-25 Deep Learning\\\\Coursework 2019\\\\keras_triplet_descriptor\\\\hpatches\\\\i_chestnuts', 'C:\\\\Users\\\\koral\\\\OneDrive - Imperial College London\\\\University\\\\Course\\\\4th Year\\\\Spring\\\\EE3-25 Deep Learning\\\\Coursework 2019\\\\keras_triplet_descriptor\\\\hpatches\\\\i_contruction', 'C:\\\\Users\\\\koral\\\\OneDrive - Imperial College London\\\\University\\\\Course\\\\4th Year\\\\Spring\\\\EE3-25 Deep Learning\\\\Coursework 2019\\\\keras_triplet_descriptor\\\\hpatches\\\\i_crownday', 'C:\\\\Users\\\\koral\\\\OneDrive - Imperial College London\\\\University\\\\Course\\\\4th Year\\\\Spring\\\\EE3-25 Deep Learning\\\\Coursework 2019\\\\keras_triplet_descriptor\\\\hpatches\\\\i_crownnight', 'C:\\\\Users\\\\koral\\\\OneDrive - Imperial College London\\\\University\\\\Course\\\\4th Year\\\\Spring\\\\EE3-25 Deep Learning\\\\Coursework 2019\\\\keras_triplet_descriptor\\\\hpatches\\\\i_dc', 'C:\\\\Users\\\\koral\\\\OneDrive - Imperial College London\\\\University\\\\Course\\\\4th Year\\\\Spring\\\\EE3-25 Deep Learning\\\\Coursework 2019\\\\keras_triplet_descriptor\\\\hpatches\\\\i_dome', 'C:\\\\Users\\\\koral\\\\OneDrive - Imperial College London\\\\University\\\\Course\\\\4th Year\\\\Spring\\\\EE3-25 Deep Learning\\\\Coursework 2019\\\\keras_triplet_descriptor\\\\hpatches\\\\i_duda', 'C:\\\\Users\\\\koral\\\\OneDrive - Imperial College London\\\\University\\\\Course\\\\4th Year\\\\Spring\\\\EE3-25 Deep Learning\\\\Coursework 2019\\\\keras_triplet_descriptor\\\\hpatches\\\\i_fenis', 'C:\\\\Users\\\\koral\\\\OneDrive - Imperial College London\\\\University\\\\Course\\\\4th Year\\\\Spring\\\\EE3-25 Deep Learning\\\\Coursework 2019\\\\keras_triplet_descriptor\\\\hpatches\\\\i_fog', 'C:\\\\Users\\\\koral\\\\OneDrive - Imperial College London\\\\University\\\\Course\\\\4th Year\\\\Spring\\\\EE3-25 Deep Learning\\\\Coursework 2019\\\\keras_triplet_descriptor\\\\hpatches\\\\i_fruits', 'C:\\\\Users\\\\koral\\\\OneDrive - Imperial College London\\\\University\\\\Course\\\\4th Year\\\\Spring\\\\EE3-25 Deep Learning\\\\Coursework 2019\\\\keras_triplet_descriptor\\\\hpatches\\\\i_gonnenberg', 'C:\\\\Users\\\\koral\\\\OneDrive - Imperial College London\\\\University\\\\Course\\\\4th Year\\\\Spring\\\\EE3-25 Deep Learning\\\\Coursework 2019\\\\keras_triplet_descriptor\\\\hpatches\\\\i_greenhouse', 'C:\\\\Users\\\\koral\\\\OneDrive - Imperial College London\\\\University\\\\Course\\\\4th Year\\\\Spring\\\\EE3-25 Deep Learning\\\\Coursework 2019\\\\keras_triplet_descriptor\\\\hpatches\\\\i_greentea', 'C:\\\\Users\\\\koral\\\\OneDrive - Imperial College London\\\\University\\\\Course\\\\4th Year\\\\Spring\\\\EE3-25 Deep Learning\\\\Coursework 2019\\\\keras_triplet_descriptor\\\\hpatches\\\\i_indiana', 'C:\\\\Users\\\\koral\\\\OneDrive - Imperial College London\\\\University\\\\Course\\\\4th Year\\\\Spring\\\\EE3-25 Deep Learning\\\\Coursework 2019\\\\keras_triplet_descriptor\\\\hpatches\\\\i_kions', 'C:\\\\Users\\\\koral\\\\OneDrive - Imperial College London\\\\University\\\\Course\\\\4th Year\\\\Spring\\\\EE3-25 Deep Learning\\\\Coursework 2019\\\\keras_triplet_descriptor\\\\hpatches\\\\i_ktirio', 'C:\\\\Users\\\\koral\\\\OneDrive - Imperial College London\\\\University\\\\Course\\\\4th Year\\\\Spring\\\\EE3-25 Deep Learning\\\\Coursework 2019\\\\keras_triplet_descriptor\\\\hpatches\\\\i_kurhaus', 'C:\\\\Users\\\\koral\\\\OneDrive - Imperial College London\\\\University\\\\Course\\\\4th Year\\\\Spring\\\\EE3-25 Deep Learning\\\\Coursework 2019\\\\keras_triplet_descriptor\\\\hpatches\\\\i_leuven', 'C:\\\\Users\\\\koral\\\\OneDrive - Imperial College London\\\\University\\\\Course\\\\4th Year\\\\Spring\\\\EE3-25 Deep Learning\\\\Coursework 2019\\\\keras_triplet_descriptor\\\\hpatches\\\\i_lionday', 'C:\\\\Users\\\\koral\\\\OneDrive - Imperial College London\\\\University\\\\Course\\\\4th Year\\\\Spring\\\\EE3-25 Deep Learning\\\\Coursework 2019\\\\keras_triplet_descriptor\\\\hpatches\\\\i_lionnight', 'C:\\\\Users\\\\koral\\\\OneDrive - Imperial College London\\\\University\\\\Course\\\\4th Year\\\\Spring\\\\EE3-25 Deep Learning\\\\Coursework 2019\\\\keras_triplet_descriptor\\\\hpatches\\\\i_londonbridge', 'C:\\\\Users\\\\koral\\\\OneDrive - Imperial College London\\\\University\\\\Course\\\\4th Year\\\\Spring\\\\EE3-25 Deep Learning\\\\Coursework 2019\\\\keras_triplet_descriptor\\\\hpatches\\\\i_melon', 'C:\\\\Users\\\\koral\\\\OneDrive - Imperial College London\\\\University\\\\Course\\\\4th Year\\\\Spring\\\\EE3-25 Deep Learning\\\\Coursework 2019\\\\keras_triplet_descriptor\\\\hpatches\\\\i_miniature', 'C:\\\\Users\\\\koral\\\\OneDrive - Imperial College London\\\\University\\\\Course\\\\4th Year\\\\Spring\\\\EE3-25 Deep Learning\\\\Coursework 2019\\\\keras_triplet_descriptor\\\\hpatches\\\\i_nescafe', 'C:\\\\Users\\\\koral\\\\OneDrive - Imperial College London\\\\University\\\\Course\\\\4th Year\\\\Spring\\\\EE3-25 Deep Learning\\\\Coursework 2019\\\\keras_triplet_descriptor\\\\hpatches\\\\i_nijmegen', 'C:\\\\Users\\\\koral\\\\OneDrive - Imperial College London\\\\University\\\\Course\\\\4th Year\\\\Spring\\\\EE3-25 Deep Learning\\\\Coursework 2019\\\\keras_triplet_descriptor\\\\hpatches\\\\i_nuts', 'C:\\\\Users\\\\koral\\\\OneDrive - Imperial College London\\\\University\\\\Course\\\\4th Year\\\\Spring\\\\EE3-25 Deep Learning\\\\Coursework 2019\\\\keras_triplet_descriptor\\\\hpatches\\\\i_objects', 'C:\\\\Users\\\\koral\\\\OneDrive - Imperial College London\\\\University\\\\Course\\\\4th Year\\\\Spring\\\\EE3-25 Deep Learning\\\\Coursework 2019\\\\keras_triplet_descriptor\\\\hpatches\\\\i_parking', 'C:\\\\Users\\\\koral\\\\OneDrive - Imperial College London\\\\University\\\\Course\\\\4th Year\\\\Spring\\\\EE3-25 Deep Learning\\\\Coursework 2019\\\\keras_triplet_descriptor\\\\hpatches\\\\i_partyfood', 'C:\\\\Users\\\\koral\\\\OneDrive - Imperial College London\\\\University\\\\Course\\\\4th Year\\\\Spring\\\\EE3-25 Deep Learning\\\\Coursework 2019\\\\keras_triplet_descriptor\\\\hpatches\\\\i_pencils', 'C:\\\\Users\\\\koral\\\\OneDrive - Imperial College London\\\\University\\\\Course\\\\4th Year\\\\Spring\\\\EE3-25 Deep Learning\\\\Coursework 2019\\\\keras_triplet_descriptor\\\\hpatches\\\\i_pinard', 'C:\\\\Users\\\\koral\\\\OneDrive - Imperial College London\\\\University\\\\Course\\\\4th Year\\\\Spring\\\\EE3-25 Deep Learning\\\\Coursework 2019\\\\keras_triplet_descriptor\\\\hpatches\\\\i_pool', 'C:\\\\Users\\\\koral\\\\OneDrive - Imperial College London\\\\University\\\\Course\\\\4th Year\\\\Spring\\\\EE3-25 Deep Learning\\\\Coursework 2019\\\\keras_triplet_descriptor\\\\hpatches\\\\i_porta', 'C:\\\\Users\\\\koral\\\\OneDrive - Imperial College London\\\\University\\\\Course\\\\4th Year\\\\Spring\\\\EE3-25 Deep Learning\\\\Coursework 2019\\\\keras_triplet_descriptor\\\\hpatches\\\\i_resort', 'C:\\\\Users\\\\koral\\\\OneDrive - Imperial College London\\\\University\\\\Course\\\\4th Year\\\\Spring\\\\EE3-25 Deep Learning\\\\Coursework 2019\\\\keras_triplet_descriptor\\\\hpatches\\\\i_salon', 'C:\\\\Users\\\\koral\\\\OneDrive - Imperial College London\\\\University\\\\Course\\\\4th Year\\\\Spring\\\\EE3-25 Deep Learning\\\\Coursework 2019\\\\keras_triplet_descriptor\\\\hpatches\\\\i_santuario', 'C:\\\\Users\\\\koral\\\\OneDrive - Imperial College London\\\\University\\\\Course\\\\4th Year\\\\Spring\\\\EE3-25 Deep Learning\\\\Coursework 2019\\\\keras_triplet_descriptor\\\\hpatches\\\\i_school', 'C:\\\\Users\\\\koral\\\\OneDrive - Imperial College London\\\\University\\\\Course\\\\4th Year\\\\Spring\\\\EE3-25 Deep Learning\\\\Coursework 2019\\\\keras_triplet_descriptor\\\\hpatches\\\\i_ski', 'C:\\\\Users\\\\koral\\\\OneDrive - Imperial College London\\\\University\\\\Course\\\\4th Year\\\\Spring\\\\EE3-25 Deep Learning\\\\Coursework 2019\\\\keras_triplet_descriptor\\\\hpatches\\\\i_smurf', 'C:\\\\Users\\\\koral\\\\OneDrive - Imperial College London\\\\University\\\\Course\\\\4th Year\\\\Spring\\\\EE3-25 Deep Learning\\\\Coursework 2019\\\\keras_triplet_descriptor\\\\hpatches\\\\i_steps', 'C:\\\\Users\\\\koral\\\\OneDrive - Imperial College London\\\\University\\\\Course\\\\4th Year\\\\Spring\\\\EE3-25 Deep Learning\\\\Coursework 2019\\\\keras_triplet_descriptor\\\\hpatches\\\\i_table', 'C:\\\\Users\\\\koral\\\\OneDrive - Imperial College London\\\\University\\\\Course\\\\4th Year\\\\Spring\\\\EE3-25 Deep Learning\\\\Coursework 2019\\\\keras_triplet_descriptor\\\\hpatches\\\\i_tools', 'C:\\\\Users\\\\koral\\\\OneDrive - Imperial College London\\\\University\\\\Course\\\\4th Year\\\\Spring\\\\EE3-25 Deep Learning\\\\Coursework 2019\\\\keras_triplet_descriptor\\\\hpatches\\\\i_toy', 'C:\\\\Users\\\\koral\\\\OneDrive - Imperial College London\\\\University\\\\Course\\\\4th Year\\\\Spring\\\\EE3-25 Deep Learning\\\\Coursework 2019\\\\keras_triplet_descriptor\\\\hpatches\\\\i_troulos', 'C:\\\\Users\\\\koral\\\\OneDrive - Imperial College London\\\\University\\\\Course\\\\4th Year\\\\Spring\\\\EE3-25 Deep Learning\\\\Coursework 2019\\\\keras_triplet_descriptor\\\\hpatches\\\\i_veggies', 'C:\\\\Users\\\\koral\\\\OneDrive - Imperial College London\\\\University\\\\Course\\\\4th Year\\\\Spring\\\\EE3-25 Deep Learning\\\\Coursework 2019\\\\keras_triplet_descriptor\\\\hpatches\\\\i_village', 'C:\\\\Users\\\\koral\\\\OneDrive - Imperial College London\\\\University\\\\Course\\\\4th Year\\\\Spring\\\\EE3-25 Deep Learning\\\\Coursework 2019\\\\keras_triplet_descriptor\\\\hpatches\\\\i_whitebuilding', 'C:\\\\Users\\\\koral\\\\OneDrive - Imperial College London\\\\University\\\\Course\\\\4th Year\\\\Spring\\\\EE3-25 Deep Learning\\\\Coursework 2019\\\\keras_triplet_descriptor\\\\hpatches\\\\i_yellowtent', 'C:\\\\Users\\\\koral\\\\OneDrive - Imperial College London\\\\University\\\\Course\\\\4th Year\\\\Spring\\\\EE3-25 Deep Learning\\\\Coursework 2019\\\\keras_triplet_descriptor\\\\hpatches\\\\i_zion', 'C:\\\\Users\\\\koral\\\\OneDrive - Imperial College London\\\\University\\\\Course\\\\4th Year\\\\Spring\\\\EE3-25 Deep Learning\\\\Coursework 2019\\\\keras_triplet_descriptor\\\\hpatches\\\\v_abstract', 'C:\\\\Users\\\\koral\\\\OneDrive - Imperial College London\\\\University\\\\Course\\\\4th Year\\\\Spring\\\\EE3-25 Deep Learning\\\\Coursework 2019\\\\keras_triplet_descriptor\\\\hpatches\\\\v_adam', 'C:\\\\Users\\\\koral\\\\OneDrive - Imperial College London\\\\University\\\\Course\\\\4th Year\\\\Spring\\\\EE3-25 Deep Learning\\\\Coursework 2019\\\\keras_triplet_descriptor\\\\hpatches\\\\v_apprentices', 'C:\\\\Users\\\\koral\\\\OneDrive - Imperial College London\\\\University\\\\Course\\\\4th Year\\\\Spring\\\\EE3-25 Deep Learning\\\\Coursework 2019\\\\keras_triplet_descriptor\\\\hpatches\\\\v_artisans', 'C:\\\\Users\\\\koral\\\\OneDrive - Imperial College London\\\\University\\\\Course\\\\4th Year\\\\Spring\\\\EE3-25 Deep Learning\\\\Coursework 2019\\\\keras_triplet_descriptor\\\\hpatches\\\\v_astronautis', 'C:\\\\Users\\\\koral\\\\OneDrive - Imperial College London\\\\University\\\\Course\\\\4th Year\\\\Spring\\\\EE3-25 Deep Learning\\\\Coursework 2019\\\\keras_triplet_descriptor\\\\hpatches\\\\v_azzola', 'C:\\\\Users\\\\koral\\\\OneDrive - Imperial College London\\\\University\\\\Course\\\\4th Year\\\\Spring\\\\EE3-25 Deep Learning\\\\Coursework 2019\\\\keras_triplet_descriptor\\\\hpatches\\\\v_bark', 'C:\\\\Users\\\\koral\\\\OneDrive - Imperial College London\\\\University\\\\Course\\\\4th Year\\\\Spring\\\\EE3-25 Deep Learning\\\\Coursework 2019\\\\keras_triplet_descriptor\\\\hpatches\\\\v_bees', 'C:\\\\Users\\\\koral\\\\OneDrive - Imperial College London\\\\University\\\\Course\\\\4th Year\\\\Spring\\\\EE3-25 Deep Learning\\\\Coursework 2019\\\\keras_triplet_descriptor\\\\hpatches\\\\v_beyus', 'C:\\\\Users\\\\koral\\\\OneDrive - Imperial College London\\\\University\\\\Course\\\\4th Year\\\\Spring\\\\EE3-25 Deep Learning\\\\Coursework 2019\\\\keras_triplet_descriptor\\\\hpatches\\\\v_bip', 'C:\\\\Users\\\\koral\\\\OneDrive - Imperial College London\\\\University\\\\Course\\\\4th Year\\\\Spring\\\\EE3-25 Deep Learning\\\\Coursework 2019\\\\keras_triplet_descriptor\\\\hpatches\\\\v_bird', 'C:\\\\Users\\\\koral\\\\OneDrive - Imperial College London\\\\University\\\\Course\\\\4th Year\\\\Spring\\\\EE3-25 Deep Learning\\\\Coursework 2019\\\\keras_triplet_descriptor\\\\hpatches\\\\v_birdwoman', 'C:\\\\Users\\\\koral\\\\OneDrive - Imperial College London\\\\University\\\\Course\\\\4th Year\\\\Spring\\\\EE3-25 Deep Learning\\\\Coursework 2019\\\\keras_triplet_descriptor\\\\hpatches\\\\v_blueprint', 'C:\\\\Users\\\\koral\\\\OneDrive - Imperial College London\\\\University\\\\Course\\\\4th Year\\\\Spring\\\\EE3-25 Deep Learning\\\\Coursework 2019\\\\keras_triplet_descriptor\\\\hpatches\\\\v_boat', 'C:\\\\Users\\\\koral\\\\OneDrive - Imperial College London\\\\University\\\\Course\\\\4th Year\\\\Spring\\\\EE3-25 Deep Learning\\\\Coursework 2019\\\\keras_triplet_descriptor\\\\hpatches\\\\v_bricks', 'C:\\\\Users\\\\koral\\\\OneDrive - Imperial College London\\\\University\\\\Course\\\\4th Year\\\\Spring\\\\EE3-25 Deep Learning\\\\Coursework 2019\\\\keras_triplet_descriptor\\\\hpatches\\\\v_busstop', 'C:\\\\Users\\\\koral\\\\OneDrive - Imperial College London\\\\University\\\\Course\\\\4th Year\\\\Spring\\\\EE3-25 Deep Learning\\\\Coursework 2019\\\\keras_triplet_descriptor\\\\hpatches\\\\v_calder', 'C:\\\\Users\\\\koral\\\\OneDrive - Imperial College London\\\\University\\\\Course\\\\4th Year\\\\Spring\\\\EE3-25 Deep Learning\\\\Coursework 2019\\\\keras_triplet_descriptor\\\\hpatches\\\\v_cartooncity', 'C:\\\\Users\\\\koral\\\\OneDrive - Imperial College London\\\\University\\\\Course\\\\4th Year\\\\Spring\\\\EE3-25 Deep Learning\\\\Coursework 2019\\\\keras_triplet_descriptor\\\\hpatches\\\\v_charing', 'C:\\\\Users\\\\koral\\\\OneDrive - Imperial College London\\\\University\\\\Course\\\\4th Year\\\\Spring\\\\EE3-25 Deep Learning\\\\Coursework 2019\\\\keras_triplet_descriptor\\\\hpatches\\\\v_churchill', 'C:\\\\Users\\\\koral\\\\OneDrive - Imperial College London\\\\University\\\\Course\\\\4th Year\\\\Spring\\\\EE3-25 Deep Learning\\\\Coursework 2019\\\\keras_triplet_descriptor\\\\hpatches\\\\v_circus', 'C:\\\\Users\\\\koral\\\\OneDrive - Imperial College London\\\\University\\\\Course\\\\4th Year\\\\Spring\\\\EE3-25 Deep Learning\\\\Coursework 2019\\\\keras_triplet_descriptor\\\\hpatches\\\\v_coffeehouse', 'C:\\\\Users\\\\koral\\\\OneDrive - Imperial College London\\\\University\\\\Course\\\\4th Year\\\\Spring\\\\EE3-25 Deep Learning\\\\Coursework 2019\\\\keras_triplet_descriptor\\\\hpatches\\\\v_colors', 'C:\\\\Users\\\\koral\\\\OneDrive - Imperial College London\\\\University\\\\Course\\\\4th Year\\\\Spring\\\\EE3-25 Deep Learning\\\\Coursework 2019\\\\keras_triplet_descriptor\\\\hpatches\\\\v_courses', 'C:\\\\Users\\\\koral\\\\OneDrive - Imperial College London\\\\University\\\\Course\\\\4th Year\\\\Spring\\\\EE3-25 Deep Learning\\\\Coursework 2019\\\\keras_triplet_descriptor\\\\hpatches\\\\v_dirtywall', 'C:\\\\Users\\\\koral\\\\OneDrive - Imperial College London\\\\University\\\\Course\\\\4th Year\\\\Spring\\\\EE3-25 Deep Learning\\\\Coursework 2019\\\\keras_triplet_descriptor\\\\hpatches\\\\v_dogman', 'C:\\\\Users\\\\koral\\\\OneDrive - Imperial College London\\\\University\\\\Course\\\\4th Year\\\\Spring\\\\EE3-25 Deep Learning\\\\Coursework 2019\\\\keras_triplet_descriptor\\\\hpatches\\\\v_eastsouth', 'C:\\\\Users\\\\koral\\\\OneDrive - Imperial College London\\\\University\\\\Course\\\\4th Year\\\\Spring\\\\EE3-25 Deep Learning\\\\Coursework 2019\\\\keras_triplet_descriptor\\\\hpatches\\\\v_feast', 'C:\\\\Users\\\\koral\\\\OneDrive - Imperial College London\\\\University\\\\Course\\\\4th Year\\\\Spring\\\\EE3-25 Deep Learning\\\\Coursework 2019\\\\keras_triplet_descriptor\\\\hpatches\\\\v_fest', 'C:\\\\Users\\\\koral\\\\OneDrive - Imperial College London\\\\University\\\\Course\\\\4th Year\\\\Spring\\\\EE3-25 Deep Learning\\\\Coursework 2019\\\\keras_triplet_descriptor\\\\hpatches\\\\v_gardens', 'C:\\\\Users\\\\koral\\\\OneDrive - Imperial College London\\\\University\\\\Course\\\\4th Year\\\\Spring\\\\EE3-25 Deep Learning\\\\Coursework 2019\\\\keras_triplet_descriptor\\\\hpatches\\\\v_grace', 'C:\\\\Users\\\\koral\\\\OneDrive - Imperial College London\\\\University\\\\Course\\\\4th Year\\\\Spring\\\\EE3-25 Deep Learning\\\\Coursework 2019\\\\keras_triplet_descriptor\\\\hpatches\\\\v_graffiti', 'C:\\\\Users\\\\koral\\\\OneDrive - Imperial College London\\\\University\\\\Course\\\\4th Year\\\\Spring\\\\EE3-25 Deep Learning\\\\Coursework 2019\\\\keras_triplet_descriptor\\\\hpatches\\\\v_home', 'C:\\\\Users\\\\koral\\\\OneDrive - Imperial College London\\\\University\\\\Course\\\\4th Year\\\\Spring\\\\EE3-25 Deep Learning\\\\Coursework 2019\\\\keras_triplet_descriptor\\\\hpatches\\\\v_laptop', 'C:\\\\Users\\\\koral\\\\OneDrive - Imperial College London\\\\University\\\\Course\\\\4th Year\\\\Spring\\\\EE3-25 Deep Learning\\\\Coursework 2019\\\\keras_triplet_descriptor\\\\hpatches\\\\v_london', 'C:\\\\Users\\\\koral\\\\OneDrive - Imperial College London\\\\University\\\\Course\\\\4th Year\\\\Spring\\\\EE3-25 Deep Learning\\\\Coursework 2019\\\\keras_triplet_descriptor\\\\hpatches\\\\v_machines', 'C:\\\\Users\\\\koral\\\\OneDrive - Imperial College London\\\\University\\\\Course\\\\4th Year\\\\Spring\\\\EE3-25 Deep Learning\\\\Coursework 2019\\\\keras_triplet_descriptor\\\\hpatches\\\\v_man', 'C:\\\\Users\\\\koral\\\\OneDrive - Imperial College London\\\\University\\\\Course\\\\4th Year\\\\Spring\\\\EE3-25 Deep Learning\\\\Coursework 2019\\\\keras_triplet_descriptor\\\\hpatches\\\\v_maskedman', 'C:\\\\Users\\\\koral\\\\OneDrive - Imperial College London\\\\University\\\\Course\\\\4th Year\\\\Spring\\\\EE3-25 Deep Learning\\\\Coursework 2019\\\\keras_triplet_descriptor\\\\hpatches\\\\v_pomegranate', 'C:\\\\Users\\\\koral\\\\OneDrive - Imperial College London\\\\University\\\\Course\\\\4th Year\\\\Spring\\\\EE3-25 Deep Learning\\\\Coursework 2019\\\\keras_triplet_descriptor\\\\hpatches\\\\v_posters', 'C:\\\\Users\\\\koral\\\\OneDrive - Imperial College London\\\\University\\\\Course\\\\4th Year\\\\Spring\\\\EE3-25 Deep Learning\\\\Coursework 2019\\\\keras_triplet_descriptor\\\\hpatches\\\\v_samples', 'C:\\\\Users\\\\koral\\\\OneDrive - Imperial College London\\\\University\\\\Course\\\\4th Year\\\\Spring\\\\EE3-25 Deep Learning\\\\Coursework 2019\\\\keras_triplet_descriptor\\\\hpatches\\\\v_soldiers', 'C:\\\\Users\\\\koral\\\\OneDrive - Imperial College London\\\\University\\\\Course\\\\4th Year\\\\Spring\\\\EE3-25 Deep Learning\\\\Coursework 2019\\\\keras_triplet_descriptor\\\\hpatches\\\\v_strand', 'C:\\\\Users\\\\koral\\\\OneDrive - Imperial College London\\\\University\\\\Course\\\\4th Year\\\\Spring\\\\EE3-25 Deep Learning\\\\Coursework 2019\\\\keras_triplet_descriptor\\\\hpatches\\\\v_sunseason', 'C:\\\\Users\\\\koral\\\\OneDrive - Imperial College London\\\\University\\\\Course\\\\4th Year\\\\Spring\\\\EE3-25 Deep Learning\\\\Coursework 2019\\\\keras_triplet_descriptor\\\\hpatches\\\\v_tabletop', 'C:\\\\Users\\\\koral\\\\OneDrive - Imperial College London\\\\University\\\\Course\\\\4th Year\\\\Spring\\\\EE3-25 Deep Learning\\\\Coursework 2019\\\\keras_triplet_descriptor\\\\hpatches\\\\v_talent', 'C:\\\\Users\\\\koral\\\\OneDrive - Imperial College London\\\\University\\\\Course\\\\4th Year\\\\Spring\\\\EE3-25 Deep Learning\\\\Coursework 2019\\\\keras_triplet_descriptor\\\\hpatches\\\\v_tempera', 'C:\\\\Users\\\\koral\\\\OneDrive - Imperial College London\\\\University\\\\Course\\\\4th Year\\\\Spring\\\\EE3-25 Deep Learning\\\\Coursework 2019\\\\keras_triplet_descriptor\\\\hpatches\\\\v_there', 'C:\\\\Users\\\\koral\\\\OneDrive - Imperial College London\\\\University\\\\Course\\\\4th Year\\\\Spring\\\\EE3-25 Deep Learning\\\\Coursework 2019\\\\keras_triplet_descriptor\\\\hpatches\\\\v_underground', 'C:\\\\Users\\\\koral\\\\OneDrive - Imperial College London\\\\University\\\\Course\\\\4th Year\\\\Spring\\\\EE3-25 Deep Learning\\\\Coursework 2019\\\\keras_triplet_descriptor\\\\hpatches\\\\v_vitro', 'C:\\\\Users\\\\koral\\\\OneDrive - Imperial College London\\\\University\\\\Course\\\\4th Year\\\\Spring\\\\EE3-25 Deep Learning\\\\Coursework 2019\\\\keras_triplet_descriptor\\\\hpatches\\\\v_wall', 'C:\\\\Users\\\\koral\\\\OneDrive - Imperial College London\\\\University\\\\Course\\\\4th Year\\\\Spring\\\\EE3-25 Deep Learning\\\\Coursework 2019\\\\keras_triplet_descriptor\\\\hpatches\\\\v_wapping', 'C:\\\\Users\\\\koral\\\\OneDrive - Imperial College London\\\\University\\\\Course\\\\4th Year\\\\Spring\\\\EE3-25 Deep Learning\\\\Coursework 2019\\\\keras_triplet_descriptor\\\\hpatches\\\\v_war', 'C:\\\\Users\\\\koral\\\\OneDrive - Imperial College London\\\\University\\\\Course\\\\4th Year\\\\Spring\\\\EE3-25 Deep Learning\\\\Coursework 2019\\\\keras_triplet_descriptor\\\\hpatches\\\\v_weapons', 'C:\\\\Users\\\\koral\\\\OneDrive - Imperial College London\\\\University\\\\Course\\\\4th Year\\\\Spring\\\\EE3-25 Deep Learning\\\\Coursework 2019\\\\keras_triplet_descriptor\\\\hpatches\\\\v_woman', 'C:\\\\Users\\\\koral\\\\OneDrive - Imperial College London\\\\University\\\\Course\\\\4th Year\\\\Spring\\\\EE3-25 Deep Learning\\\\Coursework 2019\\\\keras_triplet_descriptor\\\\hpatches\\\\v_wormhole', 'C:\\\\Users\\\\koral\\\\OneDrive - Imperial College London\\\\University\\\\Course\\\\4th Year\\\\Spring\\\\EE3-25 Deep Learning\\\\Coursework 2019\\\\keras_triplet_descriptor\\\\hpatches\\\\v_wounded', 'C:\\\\Users\\\\koral\\\\OneDrive - Imperial College London\\\\University\\\\Course\\\\4th Year\\\\Spring\\\\EE3-25 Deep Learning\\\\Coursework 2019\\\\keras_triplet_descriptor\\\\hpatches\\\\v_yard', 'C:\\\\Users\\\\koral\\\\OneDrive - Imperial College London\\\\University\\\\Course\\\\4th Year\\\\Spring\\\\EE3-25 Deep Learning\\\\Coursework 2019\\\\keras_triplet_descriptor\\\\hpatches\\\\v_yuri']"
     ]
    },
    {
     "name": "stdout",
     "output_type": "stream",
     "text": [
      "\n",
      "116\n",
      "76\n",
      "40\n",
      "76\n",
      "40\n"
     ]
    }
   ],
   "source": [
    "hpatches_dir = './hpatches'\n",
    "splits_path = './splits.json'\n",
    "\n",
    "splits_json = json.load(open(splits_path, 'rb'))\n",
    "split = splits_json['a']\n",
    "\n",
    "train_fnames = split['train']\n",
    "test_fnames = split['test']\n",
    "\n",
    "seqs = glob.glob(hpatches_dir+'\\\\*')\n",
    "seqs = [os.path.abspath(p) for p in seqs]   \n",
    "seqs_train = list(filter(lambda x: x.split('\\\\')[-1] in train_fnames, seqs)) \n",
    "seqs_test = list(filter(lambda x: x.split('\\\\')[-1] in split['test'], seqs))\n",
    "print(seqs)\n",
    "print(len(seqs))\n",
    "print(len(train_fnames))\n",
    "print(len(split['test']))\n",
    "print(len(seqs_train))\n",
    "print(len(seqs_test))"
   ]
  },
  {
   "cell_type": "code",
   "execution_count": 4,
   "metadata": {},
   "outputs": [],
   "source": [
    "def get_denoise_model(shape):\n",
    "    \n",
    "  inputs = Input(shape)\n",
    "  \n",
    "  ## Encoder starts\n",
    "  conv1 = Conv2D(16, 3, activation = 'relu', padding = 'same', kernel_initializer = 'he_normal')(inputs)\n",
    "  pool1 = MaxPooling2D(pool_size=(2, 2))(conv1)\n",
    "  \n",
    "  ## Bottleneck\n",
    "  conv2 = Conv2D(32, 3, activation = 'relu', padding = 'same', kernel_initializer = 'he_normal')(pool1)\n",
    "\n",
    "  ## Now the decoder starts\n",
    "  up3 = Conv2D(64, 2, activation = 'relu', padding = 'same', kernel_initializer = 'he_normal')(UpSampling2D(size = (2,2))(conv2))\n",
    "  merge3 = concatenate([conv1,up3], axis = -1)\n",
    "  conv3 = Conv2D(64, 3, activation = 'relu', padding = 'same', kernel_initializer = 'he_normal')(merge3)\n",
    "    \n",
    "  conv4 = Conv2D(1, 3,  padding = 'same')(conv3)\n",
    "\n",
    "  shallow_net = Model(inputs = inputs, outputs = conv4)\n",
    "  \n",
    "  return shallow_net\n",
    "\n",
    "\n",
    "\n",
    "def get_descriptor_model(shape):\n",
    "  \n",
    "  '''Architecture copies HardNet architecture'''\n",
    "  \n",
    "  init_weights = keras.initializers.he_normal()\n",
    "  \n",
    "  descriptor_model = Sequential()\n",
    "  descriptor_model.add(Conv2D(32, 3, padding='same', input_shape=shape, use_bias = True, kernel_initializer=init_weights))\n",
    "  descriptor_model.add(BatchNormalization(axis = -1))\n",
    "  descriptor_model.add(Activation('relu'))\n",
    "\n",
    "  descriptor_model.add(Conv2D(32, 3, padding='same', use_bias = True, kernel_initializer=init_weights))\n",
    "  descriptor_model.add(BatchNormalization(axis = -1))\n",
    "  descriptor_model.add(Activation('relu'))\n",
    "\n",
    "  descriptor_model.add(Conv2D(64, 3, padding='same', strides=2, use_bias = True, kernel_initializer=init_weights))\n",
    "  descriptor_model.add(BatchNormalization(axis = -1))\n",
    "  descriptor_model.add(Activation('relu'))\n",
    "\n",
    "  descriptor_model.add(Conv2D(64, 3, padding='same', use_bias = True, kernel_initializer=init_weights))\n",
    "  descriptor_model.add(BatchNormalization(axis = -1))\n",
    "  descriptor_model.add(Activation('relu'))\n",
    "\n",
    "  descriptor_model.add(Conv2D(128, 3, padding='same', strides=2,  use_bias = True, kernel_initializer=init_weights))\n",
    "  descriptor_model.add(BatchNormalization(axis = -1))\n",
    "  descriptor_model.add(Activation('relu'))\n",
    "\n",
    "  descriptor_model.add(Conv2D(128, 3, padding='same', use_bias = True, kernel_initializer=init_weights))\n",
    "  descriptor_model.add(BatchNormalization(axis = -1))\n",
    "  descriptor_model.add(Activation('relu'))\n",
    "  descriptor_model.add(Dropout(0.3))\n",
    "\n",
    "  descriptor_model.add(Conv2D(128, 8, padding='valid', use_bias = True, kernel_initializer=init_weights))\n",
    "  \n",
    "  # Final descriptor reshape\n",
    "  descriptor_model.add(Reshape((128,)))\n",
    "  \n",
    "  return descriptor_model\n",
    "  \n",
    "  \n",
    "def triplet_loss(x):\n",
    "  \n",
    "  output_dim = 128\n",
    "  a, p, n = x\n",
    "  _alpha = 1.0\n",
    "  positive_distance = K.mean(K.square(a - p), axis=-1)\n",
    "  negative_distance = K.mean(K.square(a - n), axis=-1)\n",
    "  \n",
    "  return K.expand_dims(K.maximum(0.0, positive_distance - negative_distance + _alpha), axis = 1)"
   ]
  },
  {
   "cell_type": "code",
   "execution_count": 28,
   "metadata": {},
   "outputs": [],
   "source": [
    "shape = (32, 32, 1)\n",
    "denoise_model = keras.models.load_model('./models/base/14epoch_denoise.h5')"
   ]
  },
  {
   "cell_type": "code",
   "execution_count": 29,
   "metadata": {},
   "outputs": [],
   "source": [
    "sgd = keras.optimizers.SGD(lr=0.00001, momentum=0.9, nesterov=True)\n",
    "denoise_model.compile(loss='mean_absolute_error', optimizer=sgd, metrics=['mae'])"
   ]
  },
  {
   "cell_type": "code",
   "execution_count": 30,
   "metadata": {},
   "outputs": [
    {
     "name": "stderr",
     "output_type": "stream",
     "text": [
      "100%|████████████████████████████████████████████████████████████████████████████████████| 1/1 [00:00<00:00,  1.27it/s]\n"
     ]
    },
    {
     "data": {
      "image/png": "[encoded data removed]",
      "text/plain": [
       "<Figure size 432x288 with 3 Axes>"
      ]
     },
     "metadata": {},
     "output_type": "display_data"
    }
   ],
   "source": [
    "plot_denoise(denoise_model)"
   ]
  },
  {
   "cell_type": "code",
   "execution_count": 31,
   "metadata": {},
   "outputs": [],
   "source": [
    "from keras.layers import Lambda\n",
    "shape = (32, 32, 1)\n",
    "xa = Input(shape=shape, name='a')\n",
    "xp = Input(shape=shape, name='p')\n",
    "xn = Input(shape=shape, name='n')\n",
    "descriptor_model = get_descriptor_model(shape)\n",
    "ea = descriptor_model(xa)\n",
    "ep = descriptor_model(xp)\n",
    "en = descriptor_model(xn)\n",
    "\n",
    "loss = Lambda(triplet_loss)([ea, ep, en])\n",
    "\n",
    "descriptor_model_trip = Model(inputs=[xa, xp, xn], outputs=loss)\n",
    "sgd = keras.optimizers.SGD(lr=0.1)\n",
    "descriptor_model_trip.compile(loss='mean_absolute_error', optimizer=sgd)"
   ]
  },
  {
   "cell_type": "code",
   "execution_count": 32,
   "metadata": {},
   "outputs": [],
   "source": [
    "tmp_model = keras.models.load_model('./models/14epoch_descriptor.h5')\n",
    "descriptor_model_trip.set_weights(tmp_model.get_weights())\n",
    "descriptor_model_trip.optimizer = tmp_model.optimizer"
   ]
  },
  {
   "cell_type": "code",
   "execution_count": 33,
   "metadata": {},
   "outputs": [
    {
     "name": "stdout",
     "output_type": "stream",
     "text": [
      "40\n"
     ]
    }
   ],
   "source": [
    "print(len(seqs_test))"
   ]
  },
  {
   "cell_type": "code",
   "execution_count": 34,
   "metadata": {},
   "outputs": [
    {
     "name": "stderr",
     "output_type": "stream",
     "text": [
      "100%|██████████████████████████████████████████████████████████████████████████████████| 40/40 [06:09<00:00,  8.13s/it]\n"
     ]
    }
   ],
   "source": [
    "generate_desc_csv(descriptor_model, seqs_test, denoise_model=denoise_model, use_clean=False)"
   ]
  },
  {
   "cell_type": "code",
   "execution_count": 35,
   "metadata": {},
   "outputs": [
    {
     "name": "stdout",
     "output_type": "stream",
     "text": [
      "Verification task results:\n",
      "Mean Average Precision is 0.813688\n"
     ]
    }
   ],
   "source": [
    "#!python ./hpatches-benchmark/hpatches_eval.py --descr-name=custom --descr-dir=.\\out\\ --task=verification --delimiter=\";\"\n",
    "!python ./hpatches-benchmark/hpatches_results.py --descr=custom --results-dir=./hpatches-benchmark/results/ --task=verification"
   ]
  },
  {
   "cell_type": "code",
   "execution_count": 36,
   "metadata": {},
   "outputs": [
    {
     "name": "stdout",
     "output_type": "stream",
     "text": [
      "Matching task results:\n",
      "Mean Average Precision is 0.213871\n",
      "\n",
      "\n"
     ]
    }
   ],
   "source": [
    "#!python ./hpatches-benchmark/hpatches_eval.py --descr-name=custom --descr-dir=.\\out\\ --task=matching --delimiter=\";\"\n",
    "!python ./hpatches-benchmark/hpatches_results.py --descr=custom --results-dir=./hpatches-benchmark/results/ --task=matching"
   ]
  },
  {
   "cell_type": "code",
   "execution_count": 37,
   "metadata": {},
   "outputs": [
    {
     "name": "stdout",
     "output_type": "stream",
     "text": [
      "Retrieval task results:\n",
      "Mean Average Precision is 0.511539\n"
     ]
    }
   ],
   "source": [
    "#!python ./hpatches-benchmark/hpatches_eval.py --descr-name=custom --descr-dir=.\\out\\ --task=retrieval --delimiter=\";\"\n",
    "!python ./hpatches-benchmark/hpatches_results.py --descr=custom --results-dir=./hpatches-benchmark/results/ --task=retrieval"
   ]
  },
  {
   "cell_type": "code",
   "execution_count": 16,
   "metadata": {},
   "outputs": [],
   "source": [
    "#!zip -rq descriptors.zip ./out/custom"
   ]
  },
  {
   "cell_type": "code",
   "execution_count": 17,
   "metadata": {},
   "outputs": [],
   "source": [
    "from keras.utils.vis_utils import plot_model\n",
    "plot_model(denoise_model, to_file='denoise_model_plot.png', show_shapes=True, show_layer_names=True)\n",
    "plot_model(descriptor_model, to_file='descriptor_model_plot.png', show_shapes=True, show_layer_names=True)"
   ]
  },
  {
   "cell_type": "code",
   "execution_count": 20,
   "metadata": {},
   "outputs": [
    {
     "name": "stdout",
     "output_type": "stream",
     "text": [
      "__________________________________________________________________________________________________\n",
      "Layer (type)                    Output Shape         Param #     Connected to                     \n",
      "==================================================================================================\n",
      "input_3 (InputLayer)            (None, 32, 32, 1)    0                                            \n",
      "__________________________________________________________________________________________________\n",
      "conv2d_11 (Conv2D)              (None, 32, 32, 16)   160         input_3[0][0]                    \n",
      "__________________________________________________________________________________________________\n",
      "max_pooling2d_3 (MaxPooling2D)  (None, 16, 16, 16)   0           conv2d_11[0][0]                  \n",
      "__________________________________________________________________________________________________\n",
      "conv2d_12 (Conv2D)              (None, 16, 16, 32)   4640        max_pooling2d_3[0][0]            \n",
      "__________________________________________________________________________________________________\n",
      "up_sampling2d_3 (UpSampling2D)  (None, 32, 32, 32)   0           conv2d_12[0][0]                  \n",
      "__________________________________________________________________________________________________\n",
      "conv2d_13 (Conv2D)              (None, 32, 32, 64)   8256        up_sampling2d_3[0][0]            \n",
      "__________________________________________________________________________________________________\n",
      "concatenate_3 (Concatenate)     (None, 32, 32, 80)   0           conv2d_11[0][0]                  \n",
      "                                                                 conv2d_13[0][0]                  \n",
      "__________________________________________________________________________________________________\n",
      "conv2d_14 (Conv2D)              (None, 32, 32, 64)   46144       concatenate_3[0][0]              \n",
      "__________________________________________________________________________________________________\n",
      "conv2d_15 (Conv2D)              (None, 32, 32, 1)    577         conv2d_14[0][0]                  \n",
      "==================================================================================================\n",
      "Total params: 59,777\n",
      "Trainable params: 59,777\n",
      "Non-trainable params: 0\n",
      "__________________________________________________________________________________________________\n"
     ]
    }
   ],
   "source": [
    "denoise_model.summary()"
   ]
  },
  {
   "cell_type": "code",
   "execution_count": 21,
   "metadata": {},
   "outputs": [
    {
     "name": "stdout",
     "output_type": "stream",
     "text": [
      "_________________________________________________________________\n",
      "Layer (type)                 Output Shape              Param #   \n",
      "=================================================================\n",
      "conv2d_1 (Conv2D)            (None, 32, 32, 32)        320       \n",
      "_________________________________________________________________\n",
      "batch_normalization_1 (Batch (None, 32, 32, 32)        128       \n",
      "_________________________________________________________________\n",
      "activation_1 (Activation)    (None, 32, 32, 32)        0         \n",
      "_________________________________________________________________\n",
      "conv2d_2 (Conv2D)            (None, 32, 32, 32)        9248      \n",
      "_________________________________________________________________\n",
      "batch_normalization_2 (Batch (None, 32, 32, 32)        128       \n",
      "_________________________________________________________________\n",
      "activation_2 (Activation)    (None, 32, 32, 32)        0         \n",
      "_________________________________________________________________\n",
      "conv2d_3 (Conv2D)            (None, 16, 16, 64)        18496     \n",
      "_________________________________________________________________\n",
      "batch_normalization_3 (Batch (None, 16, 16, 64)        256       \n",
      "_________________________________________________________________\n",
      "activation_3 (Activation)    (None, 16, 16, 64)        0         \n",
      "_________________________________________________________________\n",
      "conv2d_4 (Conv2D)            (None, 16, 16, 64)        36928     \n",
      "_________________________________________________________________\n",
      "batch_normalization_4 (Batch (None, 16, 16, 64)        256       \n",
      "_________________________________________________________________\n",
      "activation_4 (Activation)    (None, 16, 16, 64)        0         \n",
      "_________________________________________________________________\n",
      "conv2d_5 (Conv2D)            (None, 8, 8, 128)         73856     \n",
      "_________________________________________________________________\n",
      "batch_normalization_5 (Batch (None, 8, 8, 128)         512       \n",
      "_________________________________________________________________\n",
      "activation_5 (Activation)    (None, 8, 8, 128)         0         \n",
      "_________________________________________________________________\n",
      "conv2d_6 (Conv2D)            (None, 8, 8, 128)         147584    \n",
      "_________________________________________________________________\n",
      "batch_normalization_6 (Batch (None, 8, 8, 128)         512       \n",
      "_________________________________________________________________\n",
      "activation_6 (Activation)    (None, 8, 8, 128)         0         \n",
      "_________________________________________________________________\n",
      "dropout_1 (Dropout)          (None, 8, 8, 128)         0         \n",
      "_________________________________________________________________\n",
      "conv2d_7 (Conv2D)            (None, 1, 1, 128)         1048704   \n",
      "_________________________________________________________________\n",
      "reshape_1 (Reshape)          (None, 128)               0         \n",
      "=================================================================\n",
      "Total params: 1,336,928\n",
      "Trainable params: 1,336,032\n",
      "Non-trainable params: 896\n",
      "_________________________________________________________________\n"
     ]
    }
   ],
   "source": [
    "descriptor_model.summary()"
   ]
  }
 ],
 "metadata": {
  "kernelspec": {
   "display_name": "Python 3",
   "language": "python",
   "name": "python3"
  },
  "language_info": {
   "codemirror_mode": {
    "name": "ipython",
    "version": 3
   },
   "file_extension": ".py",
   "mimetype": "text/x-python",
   "name": "python",
   "nbconvert_exporter": "python",
   "pygments_lexer": "ipython3",
   "version": "3.7.2"
  }
 },
 "nbformat": 4,
 "nbformat_minor": 2
}
